{
 "cells": [
  {
   "cell_type": "code",
   "execution_count": 1,
   "metadata": {},
   "outputs": [],
   "source": [
    "from time import time_ns\n",
    "import aoc, re\n",
    "from itertools import combinations as co\n",
    "from itertools import permutations as pe\n",
    "from math import lcm\n",
    "from functools import cache\n",
    "\n",
    "### Import all libraries I use in any solution to prevent them from affecting the benchmark time for that day ###\n",
    "\n",
    "with open('solutions.txt') as f:\n",
    "    sol = [[int(j) for j in i.split()] for i in f.readlines()]"
   ]
  },
  {
   "cell_type": "code",
   "execution_count": 2,
   "metadata": {},
   "outputs": [
    {
     "name": "stdout",
     "output_type": "stream",
     "text": [
      "01   101ms #\n",
      "02     3ms \n",
      "03    84ms \n",
      "04     5ms \n",
      "05    22ms \n",
      "06     0ms \n",
      "07    27ms \n",
      "08    54ms \n",
      "09    10ms \n",
      "10    95ms \n",
      "11   841ms ########\n",
      "12   273ms ##\n",
      "13   367ms ###\n",
      "14   840ms ########\n",
      "15     0ms \n",
      "16  3000ms ##############################\n",
      "17  5791ms #########################################################\n",
      "18   270ms ##\n",
      "19    33ms \n",
      "20    30ms \n",
      "21  2232ms ######################\n",
      "22   354ms ###\n",
      "23 29666ms ########################################################################################################################################################################################################\n",
      "           ################################################################################################\n",
      "24  1173ms ###########\n",
      "25  4155ms #########################################\n"
     ]
    }
   ],
   "source": [
    "times = []\n",
    "for i in range(25):\n",
    "    p1, p2 = sol[i]\n",
    "    name = str(i+1).zfill(2)\n",
    "    t0 = time_ns()\n",
    "    day = __import__(name)\n",
    "    assert p1 == day.part1, f\"Day {name} part 1 incorrect\"\n",
    "    assert p2 == day.part2, f\"Day {name} part 2 incorrect\"\n",
    "    dt = (time_ns() - t0) // 1000000\n",
    "    line_width = 200\n",
    "    ms_per_char = 100\n",
    "    display = ('#'*line_width + '\\n' + ' '*11)*(dt // ms_per_char // line_width) + '#'*((dt // ms_per_char)%line_width)\n",
    "    print(name, f\"{' '*(5-len(str(dt)))}{dt}ms\", display)\n",
    "    times += [dt]\n"
   ]
  },
  {
   "cell_type": "code",
   "execution_count": 3,
   "metadata": {},
   "outputs": [
    {
     "name": "stdout",
     "output_type": "stream",
     "text": [
      "[101, 3, 84, 5, 22, 0, 27, 54, 10, 95, 841, 273, 367, 840, 0, 3000, 5791, 270, 33, 30, 2232, 354, 29666, 1173, 4155]\n"
     ]
    },
    {
     "data": {
      "text/plain": [
       "49426"
      ]
     },
     "execution_count": 3,
     "metadata": {},
     "output_type": "execute_result"
    }
   ],
   "source": [
    "print(times)\n",
    "sum(times)"
   ]
  },
  {
   "cell_type": "code",
   "execution_count": null,
   "metadata": {},
   "outputs": [],
   "source": []
  }
 ],
 "metadata": {
  "kernelspec": {
   "display_name": "Python 3",
   "language": "python",
   "name": "python3"
  },
  "language_info": {
   "codemirror_mode": {
    "name": "ipython",
    "version": 3
   },
   "file_extension": ".py",
   "mimetype": "text/x-python",
   "name": "python",
   "nbconvert_exporter": "python",
   "pygments_lexer": "ipython3",
   "version": "3.11.1"
  }
 },
 "nbformat": 4,
 "nbformat_minor": 2
}
